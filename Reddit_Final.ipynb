{
 "cells": [
  {
   "cell_type": "code",
   "execution_count": 1,
   "metadata": {},
   "outputs": [
    {
     "name": "stderr",
     "output_type": "stream",
     "text": [
      "/Users/mauriekathan/anaconda3/envs/dsi/lib/python3.6/site-packages/sklearn/ensemble/weight_boosting.py:29: DeprecationWarning: numpy.core.umath_tests is an internal NumPy module and should not be imported. It will be removed in a future NumPy release.\n",
      "  from numpy.core.umath_tests import inner1d\n"
     ]
    }
   ],
   "source": [
    "# Import libaries\n",
    "import numpy as np\n",
    "import pandas as pd\n",
    "import matplotlib.pyplot as plt\n",
    "import time\n",
    "import requests\n",
    "\n",
    "from sklearn.feature_extraction.text import CountVectorizer, TfidfVectorizer\n",
    "from sklearn.feature_extraction import text\n",
    "from textblob import TextBlob, Word\n",
    "from sklearn.linear_model import LogisticRegression\n",
    "from sklearn import metrics\n",
    "from sklearn.naive_bayes import MultinomialNB\n",
    "from sklearn.model_selection import train_test_split, GridSearchCV\n",
    "from bs4 import BeautifulSoup\n",
    "import re\n",
    "import nltk\n",
    "from nltk.corpus import stopwords\n",
    "import datetime as dt\n",
    "from sklearn.ensemble import RandomForestClassifier\n",
    "from sklearn.naive_bayes import MultinomialNB\n",
    "from sklearn.svm import SVC\n",
    "from sklearn.pipeline import Pipeline\n",
    "\n",
    "import warnings\n",
    "warnings.filterwarnings(\"ignore\", category=UserWarning, module='bs4')"
   ]
  },
  {
   "cell_type": "code",
   "execution_count": 2,
   "metadata": {},
   "outputs": [],
   "source": [
    "np.random.seed(42)"
   ]
  },
  {
   "cell_type": "markdown",
   "metadata": {},
   "source": [
    "# Data Retrieval"
   ]
  },
  {
   "cell_type": "code",
   "execution_count": 3,
   "metadata": {},
   "outputs": [],
   "source": [
    "url = 'https://api.pushshift.io/reddit/search/submission/?subreddit=space&size=500&after=30d'"
   ]
  },
  {
   "cell_type": "code",
   "execution_count": 4,
   "metadata": {},
   "outputs": [],
   "source": [
    "#inspired in combination by Brian Collins and Erik Green.\n",
    "\n",
    "def query_pushshift(subreddit, kind='submission', skip=30, times=6, start = 0,pseudoverbose=5, size = 500,\n",
    "                    subfield = ['title', 'selftext','subreddit', 'created_utc', 'author', 'num_comments', 'score', 'is_self'],\n",
    "                    comfields = ['body', 'score', 'created_utc']):\n",
    "\n",
    "#subreddit= name of the subreddit, \n",
    "#kind= part of the api to pull from. {submission,comment}, Submission being the default.\n",
    "#skip=number of days to skip after each scrape,\n",
    "#times= how many scapes to do at once. default = 6\n",
    "#size = how many posts to scrape during each scape iteration.\n",
    "#start= how many days back to start from.  I used this to make sure I was getting the same posts each time.\n",
    "#pseudoverbose= prints updates after i cycles.  Default 5. (the updates are number of cycles)\n",
    "#subfield = all of the specific fields from each post from the submissions api we will be scraping and saving.  \n",
    "#other subfields can be found by visiting a subreddit on reddit.com, adding .json to the end of the url, and looking \n",
    "#through the 'data' dictionary keys\n",
    "#comfields = same as subfields, but for comments, should you choose to set the param kind='comment'\n",
    "    \n",
    "    stem = f\"https://api.pushshift.io/reddit/search/{kind}/?subreddit={subreddit}&size={size}\"\n",
    "#stem is the base url we are scraping (or in this case api). We are using the f format to fill \n",
    "#in the parameters indicated. This is scraping from a datadase of reddit posts provided by pushshift.io.\n",
    "#Pushshift ingests data from various social media companies such as Twitter and Reddit \n",
    "#and makes that data available for researchers and academic institutions. \n",
    "#You can donate to pushshift at: https://pushshift.io/donations/\n",
    "    posts = []\n",
    "#this will be the based list we will use to pull all posts     \n",
    "    \n",
    "    \n",
    "    count = 0\n",
    "    for num in range(1, times):\n",
    "        #this sets up a loop that will run as many times as we set with times peramieter\n",
    "        count += 1\n",
    "        URL = \"{}&after={}d\".format(stem, skip * num + start)\n",
    "        #creates a slug to go after stem. The slug is set up to pull from numbers of days that is the skip perameter\n",
    "        # times the num of the loop added to the start perameter.\n",
    "        response = requests.get(URL)\n",
    "        assert response.status_code == 200\n",
    "        #this confirms that the status code for the api is okay\n",
    "        mine = response.json()['data']\n",
    "        #saves the data from the json. 'data' is the field in the reddit json where all the data we are interested is\n",
    "        df = pd.DataFrame.from_dict(mine)\n",
    "        #makes the dictionary we grabbed from json into a dataframe.\n",
    "        posts.append(df)\n",
    "        #adds the indiviual post data frame to the posts list.\n",
    "        time.sleep(.25)\n",
    "        #amount of time we pause between loops. it is very short since apis dont really need a sleep.\n",
    "        if count%pseudoverbose == 0:                         \n",
    "            print(count, 'cycles complete.')                 \n",
    " #This prints how many times we've cycled through. this is cleaner than printing each url\n",
    "    \n",
    "    allposts = pd.concat(posts, sort=False)\n",
    "#this creates a datafram of all the posts.\n",
    "    \n",
    "    if kind == \"submission\":\n",
    "        \n",
    "        allposts = allposts[subfield]\n",
    "#if the kind is submission grab the subfields that are specified. the defaults will pull if nothing is specified        \n",
    "        allposts = allposts.drop_duplicates()\n",
    "#checks for duplicates and removes them         \n",
    "        allposts = allposts.loc[allposts['is_self'] == True]\n",
    "#this dumps the posts that are empty\n",
    "    elif kind == 'comment':                                  \n",
    "   \n",
    "        allposts = allposts[comfields]                               \n",
    "#if the kind is comment grab the subfields that are specified. the defaults will pull if nothing is specified \n",
    "        allposts = allposts.drop_duplicates()     \n",
    "#checks for duplicates and removes them      \n",
    "    def get_date(created):\n",
    "        return dt.date.fromtimestamp(created)\n",
    "    \n",
    "    _timestamp = allposts[\"created_utc\"].apply(get_date)\n",
    "    \n",
    "    allposts['timestamp'] = _timestamp\n",
    "\n",
    "    print(allposts.shape)\n",
    "    \n",
    "    return allposts \n",
    "\n"
   ]
  },
  {
   "cell_type": "code",
   "execution_count": 5,
   "metadata": {},
   "outputs": [
    {
     "name": "stdout",
     "output_type": "stream",
     "text": [
      "5 cycles complete.\n",
      "10 cycles complete.\n",
      "15 cycles complete.\n",
      "20 cycles complete.\n",
      "25 cycles complete.\n",
      "30 cycles complete.\n",
      "35 cycles complete.\n",
      "40 cycles complete.\n",
      "45 cycles complete.\n",
      "(24461, 9)\n"
     ]
    }
   ],
   "source": [
    "#pull from the 'cooking' submissions subreddit 20 times starting 10 days ago\n",
    "cooking_submissions = query_pushshift('Cooking',times=50,start=10)"
   ]
  },
  {
   "cell_type": "code",
   "execution_count": 6,
   "metadata": {},
   "outputs": [
    {
     "name": "stdout",
     "output_type": "stream",
     "text": [
      "5 cycles complete.\n",
      "10 cycles complete.\n",
      "15 cycles complete.\n",
      "20 cycles complete.\n",
      "25 cycles complete.\n",
      "30 cycles complete.\n",
      "35 cycles complete.\n",
      "40 cycles complete.\n",
      "45 cycles complete.\n",
      "(24484, 4)\n"
     ]
    }
   ],
   "source": [
    "#pull from the 'cooking' submissions subreddit 20 times starting 10 days ago\n",
    "cooking_comments = query_pushshift('Cooking',kind='comment',times=50,start=10)"
   ]
  },
  {
   "cell_type": "code",
   "execution_count": 7,
   "metadata": {},
   "outputs": [
    {
     "data": {
      "text/html": [
       "<div>\n",
       "<style scoped>\n",
       "    .dataframe tbody tr th:only-of-type {\n",
       "        vertical-align: middle;\n",
       "    }\n",
       "\n",
       "    .dataframe tbody tr th {\n",
       "        vertical-align: top;\n",
       "    }\n",
       "\n",
       "    .dataframe thead th {\n",
       "        text-align: right;\n",
       "    }\n",
       "</style>\n",
       "<table border=\"1\" class=\"dataframe\">\n",
       "  <thead>\n",
       "    <tr style=\"text-align: right;\">\n",
       "      <th></th>\n",
       "      <th>body</th>\n",
       "      <th>score</th>\n",
       "      <th>created_utc</th>\n",
       "      <th>timestamp</th>\n",
       "    </tr>\n",
       "  </thead>\n",
       "  <tbody>\n",
       "    <tr>\n",
       "      <th>0</th>\n",
       "      <td>I need a fucking glass, spoon, or knife.   \\n\\...</td>\n",
       "      <td>1</td>\n",
       "      <td>1542827402</td>\n",
       "      <td>2018-11-21</td>\n",
       "    </tr>\n",
       "    <tr>\n",
       "      <th>1</th>\n",
       "      <td>Thanks for this idea! I just found a tapas rec...</td>\n",
       "      <td>1</td>\n",
       "      <td>1542827420</td>\n",
       "      <td>2018-11-21</td>\n",
       "    </tr>\n",
       "    <tr>\n",
       "      <th>2</th>\n",
       "      <td>I can see that sort of volume requiring a mand...</td>\n",
       "      <td>1</td>\n",
       "      <td>1542827435</td>\n",
       "      <td>2018-11-21</td>\n",
       "    </tr>\n",
       "    <tr>\n",
       "      <th>3</th>\n",
       "      <td>Thanks! :D</td>\n",
       "      <td>1</td>\n",
       "      <td>1542827442</td>\n",
       "      <td>2018-11-21</td>\n",
       "    </tr>\n",
       "    <tr>\n",
       "      <th>4</th>\n",
       "      <td>I really like this idea! Do you use fresh or c...</td>\n",
       "      <td>1</td>\n",
       "      <td>1542827464</td>\n",
       "      <td>2018-11-21</td>\n",
       "    </tr>\n",
       "  </tbody>\n",
       "</table>\n",
       "</div>"
      ],
      "text/plain": [
       "                                                body  score  created_utc  \\\n",
       "0  I need a fucking glass, spoon, or knife.   \\n\\...      1   1542827402   \n",
       "1  Thanks for this idea! I just found a tapas rec...      1   1542827420   \n",
       "2  I can see that sort of volume requiring a mand...      1   1542827435   \n",
       "3                                         Thanks! :D      1   1542827442   \n",
       "4  I really like this idea! Do you use fresh or c...      1   1542827464   \n",
       "\n",
       "    timestamp  \n",
       "0  2018-11-21  \n",
       "1  2018-11-21  \n",
       "2  2018-11-21  \n",
       "3  2018-11-21  \n",
       "4  2018-11-21  "
      ]
     },
     "execution_count": 7,
     "metadata": {},
     "output_type": "execute_result"
    }
   ],
   "source": [
    "cooking_comments.head()"
   ]
  },
  {
   "cell_type": "code",
   "execution_count": 8,
   "metadata": {},
   "outputs": [
    {
     "data": {
      "text/html": [
       "<div>\n",
       "<style scoped>\n",
       "    .dataframe tbody tr th:only-of-type {\n",
       "        vertical-align: middle;\n",
       "    }\n",
       "\n",
       "    .dataframe tbody tr th {\n",
       "        vertical-align: top;\n",
       "    }\n",
       "\n",
       "    .dataframe thead th {\n",
       "        text-align: right;\n",
       "    }\n",
       "</style>\n",
       "<table border=\"1\" class=\"dataframe\">\n",
       "  <thead>\n",
       "    <tr style=\"text-align: right;\">\n",
       "      <th></th>\n",
       "      <th>title</th>\n",
       "      <th>selftext</th>\n",
       "      <th>subreddit</th>\n",
       "      <th>created_utc</th>\n",
       "      <th>author</th>\n",
       "      <th>num_comments</th>\n",
       "      <th>score</th>\n",
       "      <th>is_self</th>\n",
       "      <th>timestamp</th>\n",
       "    </tr>\n",
       "  </thead>\n",
       "  <tbody>\n",
       "    <tr>\n",
       "      <th>0</th>\n",
       "      <td>What bread doughs can I prep before I go to sl...</td>\n",
       "      <td></td>\n",
       "      <td>Cooking</td>\n",
       "      <td>1542827760</td>\n",
       "      <td>Crooked_Cricket</td>\n",
       "      <td>21</td>\n",
       "      <td>1</td>\n",
       "      <td>True</td>\n",
       "      <td>2018-11-21</td>\n",
       "    </tr>\n",
       "    <tr>\n",
       "      <th>1</th>\n",
       "      <td>What can I do with fudge that didn't set right?</td>\n",
       "      <td>My wife really wanted to make fudge this holid...</td>\n",
       "      <td>Cooking</td>\n",
       "      <td>1542827819</td>\n",
       "      <td>Golossos</td>\n",
       "      <td>2</td>\n",
       "      <td>1</td>\n",
       "      <td>True</td>\n",
       "      <td>2018-11-21</td>\n",
       "    </tr>\n",
       "    <tr>\n",
       "      <th>2</th>\n",
       "      <td>Extra steps in recipes that don't seem worth it?</td>\n",
       "      <td>I was browsing serious eats and was looking at...</td>\n",
       "      <td>Cooking</td>\n",
       "      <td>1542828240</td>\n",
       "      <td>mtbguy1981</td>\n",
       "      <td>9</td>\n",
       "      <td>1</td>\n",
       "      <td>True</td>\n",
       "      <td>2018-11-21</td>\n",
       "    </tr>\n",
       "    <tr>\n",
       "      <th>3</th>\n",
       "      <td>Seeking some guidance/ideas on how to deal wit...</td>\n",
       "      <td>[removed]</td>\n",
       "      <td>Cooking</td>\n",
       "      <td>1542828862</td>\n",
       "      <td>shleem13</td>\n",
       "      <td>0</td>\n",
       "      <td>1</td>\n",
       "      <td>True</td>\n",
       "      <td>2018-11-21</td>\n",
       "    </tr>\n",
       "    <tr>\n",
       "      <th>4</th>\n",
       "      <td>What are the best things to do with sous vide?</td>\n",
       "      <td>I’m getting a sous vide today and going to Cos...</td>\n",
       "      <td>Cooking</td>\n",
       "      <td>1542829097</td>\n",
       "      <td>Cazken</td>\n",
       "      <td>11</td>\n",
       "      <td>1</td>\n",
       "      <td>True</td>\n",
       "      <td>2018-11-21</td>\n",
       "    </tr>\n",
       "  </tbody>\n",
       "</table>\n",
       "</div>"
      ],
      "text/plain": [
       "                                               title  \\\n",
       "0  What bread doughs can I prep before I go to sl...   \n",
       "1    What can I do with fudge that didn't set right?   \n",
       "2   Extra steps in recipes that don't seem worth it?   \n",
       "3  Seeking some guidance/ideas on how to deal wit...   \n",
       "4     What are the best things to do with sous vide?   \n",
       "\n",
       "                                            selftext subreddit  created_utc  \\\n",
       "0                                                      Cooking   1542827760   \n",
       "1  My wife really wanted to make fudge this holid...   Cooking   1542827819   \n",
       "2  I was browsing serious eats and was looking at...   Cooking   1542828240   \n",
       "3                                          [removed]   Cooking   1542828862   \n",
       "4  I’m getting a sous vide today and going to Cos...   Cooking   1542829097   \n",
       "\n",
       "            author  num_comments  score  is_self   timestamp  \n",
       "0  Crooked_Cricket            21      1     True  2018-11-21  \n",
       "1         Golossos             2      1     True  2018-11-21  \n",
       "2       mtbguy1981             9      1     True  2018-11-21  \n",
       "3         shleem13             0      1     True  2018-11-21  \n",
       "4           Cazken            11      1     True  2018-11-21  "
      ]
     },
     "execution_count": 8,
     "metadata": {},
     "output_type": "execute_result"
    }
   ],
   "source": [
    "cooking_submissions.head()"
   ]
  },
  {
   "cell_type": "code",
   "execution_count": 9,
   "metadata": {},
   "outputs": [],
   "source": [
    "#saving to csv\n",
    "cooking_comments.to_csv('./Data/cooking_comments_final.csv')\n",
    "cooking_submissions.to_csv('./Data/cooking_submissions_final.csv')"
   ]
  },
  {
   "cell_type": "code",
   "execution_count": 10,
   "metadata": {},
   "outputs": [
    {
     "name": "stdout",
     "output_type": "stream",
     "text": [
      "5 cycles complete.\n",
      "10 cycles complete.\n",
      "15 cycles complete.\n",
      "20 cycles complete.\n",
      "25 cycles complete.\n",
      "30 cycles complete.\n",
      "35 cycles complete.\n",
      "40 cycles complete.\n",
      "45 cycles complete.\n",
      "50 cycles complete.\n",
      "55 cycles complete.\n",
      "60 cycles complete.\n",
      "65 cycles complete.\n",
      "70 cycles complete.\n",
      "75 cycles complete.\n",
      "80 cycles complete.\n",
      "85 cycles complete.\n",
      "90 cycles complete.\n",
      "95 cycles complete.\n",
      "(9756, 9)\n"
     ]
    }
   ],
   "source": [
    "#pull from the 'baking' submissions subreddit 100 times starting 10 days ago\n",
    "#we are sampling more baking submissions than cooking because we are undersampling cooking because when \n",
    "#we run this code with cooking we get way more posts\n",
    "baking_submissions = query_pushshift('baking',times=100,start=10)"
   ]
  },
  {
   "cell_type": "code",
   "execution_count": 11,
   "metadata": {},
   "outputs": [
    {
     "name": "stdout",
     "output_type": "stream",
     "text": [
      "5 cycles complete.\n",
      "10 cycles complete.\n",
      "15 cycles complete.\n",
      "(9499, 4)\n"
     ]
    }
   ],
   "source": [
    "#what pull the comment for baking subreddit. What I discovered in playing around with sampling. There were more comments\n",
    "#then there were submissions for baking so I should pull less to get a balance sample\n",
    "baking_comments = query_pushshift('baking',kind='comment',times=20,start=10)"
   ]
  },
  {
   "cell_type": "code",
   "execution_count": 12,
   "metadata": {
    "scrolled": true
   },
   "outputs": [
    {
     "data": {
      "text/html": [
       "<div>\n",
       "<style scoped>\n",
       "    .dataframe tbody tr th:only-of-type {\n",
       "        vertical-align: middle;\n",
       "    }\n",
       "\n",
       "    .dataframe tbody tr th {\n",
       "        vertical-align: top;\n",
       "    }\n",
       "\n",
       "    .dataframe thead th {\n",
       "        text-align: right;\n",
       "    }\n",
       "</style>\n",
       "<table border=\"1\" class=\"dataframe\">\n",
       "  <thead>\n",
       "    <tr style=\"text-align: right;\">\n",
       "      <th></th>\n",
       "      <th>title</th>\n",
       "      <th>selftext</th>\n",
       "      <th>subreddit</th>\n",
       "      <th>created_utc</th>\n",
       "      <th>author</th>\n",
       "      <th>num_comments</th>\n",
       "      <th>score</th>\n",
       "      <th>is_self</th>\n",
       "      <th>timestamp</th>\n",
       "    </tr>\n",
       "  </thead>\n",
       "  <tbody>\n",
       "    <tr>\n",
       "      <th>0</th>\n",
       "      <td>My breads aren't rising, what could I be doing...</td>\n",
       "      <td>I've been trying to make some, what I thought,...</td>\n",
       "      <td>Baking</td>\n",
       "      <td>1542827696</td>\n",
       "      <td>iYogurt</td>\n",
       "      <td>6</td>\n",
       "      <td>1</td>\n",
       "      <td>True</td>\n",
       "      <td>2018-11-21</td>\n",
       "    </tr>\n",
       "    <tr>\n",
       "      <th>1</th>\n",
       "      <td>Forgot sugar in pumpkin pie...how can I turn i...</td>\n",
       "      <td>First time making a pumpkin pie and got distra...</td>\n",
       "      <td>Baking</td>\n",
       "      <td>1542827876</td>\n",
       "      <td>DarlingoftheDay</td>\n",
       "      <td>0</td>\n",
       "      <td>1</td>\n",
       "      <td>True</td>\n",
       "      <td>2018-11-21</td>\n",
       "    </tr>\n",
       "    <tr>\n",
       "      <th>3</th>\n",
       "      <td>HELP may have used bad eggs!</td>\n",
       "      <td>So as the title states I think I might be in t...</td>\n",
       "      <td>Baking</td>\n",
       "      <td>1542828471</td>\n",
       "      <td>Bigz11</td>\n",
       "      <td>6</td>\n",
       "      <td>1</td>\n",
       "      <td>True</td>\n",
       "      <td>2018-11-21</td>\n",
       "    </tr>\n",
       "    <tr>\n",
       "      <th>13</th>\n",
       "      <td>How to make restaurant style pancakes?</td>\n",
       "      <td>Do pancakes count as \"baking\"?\\n\\nWhen I make ...</td>\n",
       "      <td>Baking</td>\n",
       "      <td>1542833028</td>\n",
       "      <td>RichieW13</td>\n",
       "      <td>2</td>\n",
       "      <td>1</td>\n",
       "      <td>True</td>\n",
       "      <td>2018-11-21</td>\n",
       "    </tr>\n",
       "    <tr>\n",
       "      <th>22</th>\n",
       "      <td>Pate sucree for Pie pastry work</td>\n",
       "      <td>I love the taste of pate sucree for tarts and ...</td>\n",
       "      <td>Baking</td>\n",
       "      <td>1542837441</td>\n",
       "      <td>NVCGenny</td>\n",
       "      <td>0</td>\n",
       "      <td>1</td>\n",
       "      <td>True</td>\n",
       "      <td>2018-11-21</td>\n",
       "    </tr>\n",
       "  </tbody>\n",
       "</table>\n",
       "</div>"
      ],
      "text/plain": [
       "                                                title  \\\n",
       "0   My breads aren't rising, what could I be doing...   \n",
       "1   Forgot sugar in pumpkin pie...how can I turn i...   \n",
       "3                        HELP may have used bad eggs!   \n",
       "13             How to make restaurant style pancakes?   \n",
       "22                    Pate sucree for Pie pastry work   \n",
       "\n",
       "                                             selftext subreddit  created_utc  \\\n",
       "0   I've been trying to make some, what I thought,...    Baking   1542827696   \n",
       "1   First time making a pumpkin pie and got distra...    Baking   1542827876   \n",
       "3   So as the title states I think I might be in t...    Baking   1542828471   \n",
       "13  Do pancakes count as \"baking\"?\\n\\nWhen I make ...    Baking   1542833028   \n",
       "22  I love the taste of pate sucree for tarts and ...    Baking   1542837441   \n",
       "\n",
       "             author  num_comments  score  is_self   timestamp  \n",
       "0           iYogurt             6      1     True  2018-11-21  \n",
       "1   DarlingoftheDay             0      1     True  2018-11-21  \n",
       "3            Bigz11             6      1     True  2018-11-21  \n",
       "13        RichieW13             2      1     True  2018-11-21  \n",
       "22         NVCGenny             0      1     True  2018-11-21  "
      ]
     },
     "execution_count": 12,
     "metadata": {},
     "output_type": "execute_result"
    }
   ],
   "source": [
    "baking_submissions.head()"
   ]
  },
  {
   "cell_type": "code",
   "execution_count": 13,
   "metadata": {},
   "outputs": [
    {
     "data": {
      "text/html": [
       "<div>\n",
       "<style scoped>\n",
       "    .dataframe tbody tr th:only-of-type {\n",
       "        vertical-align: middle;\n",
       "    }\n",
       "\n",
       "    .dataframe tbody tr th {\n",
       "        vertical-align: top;\n",
       "    }\n",
       "\n",
       "    .dataframe thead th {\n",
       "        text-align: right;\n",
       "    }\n",
       "</style>\n",
       "<table border=\"1\" class=\"dataframe\">\n",
       "  <thead>\n",
       "    <tr style=\"text-align: right;\">\n",
       "      <th></th>\n",
       "      <th>body</th>\n",
       "      <th>score</th>\n",
       "      <th>created_utc</th>\n",
       "      <th>timestamp</th>\n",
       "    </tr>\n",
       "  </thead>\n",
       "  <tbody>\n",
       "    <tr>\n",
       "      <th>0</th>\n",
       "      <td>Worms</td>\n",
       "      <td>1</td>\n",
       "      <td>1542827712</td>\n",
       "      <td>2018-11-21</td>\n",
       "    </tr>\n",
       "    <tr>\n",
       "      <th>1</th>\n",
       "      <td>That looks amazing! Did it taste as good as it...</td>\n",
       "      <td>1</td>\n",
       "      <td>1542827894</td>\n",
       "      <td>2018-11-21</td>\n",
       "    </tr>\n",
       "    <tr>\n",
       "      <th>2</th>\n",
       "      <td>If you add too much water the crust will proba...</td>\n",
       "      <td>1</td>\n",
       "      <td>1542827901</td>\n",
       "      <td>2018-11-21</td>\n",
       "    </tr>\n",
       "    <tr>\n",
       "      <th>3</th>\n",
       "      <td>This looks so good, never had honey cake!</td>\n",
       "      <td>1</td>\n",
       "      <td>1542828005</td>\n",
       "      <td>2018-11-21</td>\n",
       "    </tr>\n",
       "    <tr>\n",
       "      <th>4</th>\n",
       "      <td>Agree with the others that we need to see the ...</td>\n",
       "      <td>1</td>\n",
       "      <td>1542828055</td>\n",
       "      <td>2018-11-21</td>\n",
       "    </tr>\n",
       "  </tbody>\n",
       "</table>\n",
       "</div>"
      ],
      "text/plain": [
       "                                                body  score  created_utc  \\\n",
       "0                                              Worms      1   1542827712   \n",
       "1  That looks amazing! Did it taste as good as it...      1   1542827894   \n",
       "2  If you add too much water the crust will proba...      1   1542827901   \n",
       "3          This looks so good, never had honey cake!      1   1542828005   \n",
       "4  Agree with the others that we need to see the ...      1   1542828055   \n",
       "\n",
       "    timestamp  \n",
       "0  2018-11-21  \n",
       "1  2018-11-21  \n",
       "2  2018-11-21  \n",
       "3  2018-11-21  \n",
       "4  2018-11-21  "
      ]
     },
     "execution_count": 13,
     "metadata": {},
     "output_type": "execute_result"
    }
   ],
   "source": [
    "baking_comments.head()"
   ]
  },
  {
   "cell_type": "code",
   "execution_count": 14,
   "metadata": {},
   "outputs": [],
   "source": [
    "#saving to csv\n",
    "baking_comments.to_csv('./Data/baking_comments_final.csv')\n",
    "baking_submissions.to_csv('./Data/baking_submissions_final.csv')"
   ]
  },
  {
   "cell_type": "markdown",
   "metadata": {},
   "source": [
    "## Data Analysis"
   ]
  },
  {
   "cell_type": "code",
   "execution_count": 2,
   "metadata": {},
   "outputs": [],
   "source": [
    "#This was used so that we could rerun the notebook without querying the api\n",
    "cooking_comments = pd.read_csv('./Data/cooking_comments_smaller.csv')\n",
    "cooking_submissions = pd.read_csv('./Data/cooking_submissions_smaller.csv')\n",
    "baking_submissions = pd.read_csv('./Data/baking_submissions_smaller.csv')\n",
    "baking_comments = pd.read_csv('./Data/baking_comments_smaller.csv')"
   ]
  },
  {
   "cell_type": "code",
   "execution_count": 3,
   "metadata": {},
   "outputs": [
    {
     "name": "stdout",
     "output_type": "stream",
     "text": [
      "baking comments shape: (9496, 5)\n",
      "baking submissions shape: (9698, 10)\n",
      "cooking_comments shape: (24494, 5)\n",
      "Cooking Submissions shape: (24466, 10)\n"
     ]
    }
   ],
   "source": [
    "print('baking comments shape:',baking_comments.shape)\n",
    "print('baking submissions shape:',baking_submissions.shape)\n",
    "print('cooking_comments shape:',cooking_comments.shape)\n",
    "print('Cooking Submissions shape:',cooking_submissions.shape)"
   ]
  },
  {
   "cell_type": "code",
   "execution_count": 4,
   "metadata": {
    "scrolled": true
   },
   "outputs": [],
   "source": [
    "#combining all the text from both submisisons and comments. So that we are analyzing all the text\n",
    "cooking_text = pd.concat([cooking_submissions['selftext'],cooking_submissions['title'],cooking_comments['body']])"
   ]
  },
  {
   "cell_type": "code",
   "execution_count": 5,
   "metadata": {},
   "outputs": [
    {
     "data": {
      "text/plain": [
       "(73426,)"
      ]
     },
     "execution_count": 5,
     "metadata": {},
     "output_type": "execute_result"
    }
   ],
   "source": [
    "cooking_text.shape"
   ]
  },
  {
   "cell_type": "code",
   "execution_count": 6,
   "metadata": {},
   "outputs": [],
   "source": [
    "#making it into a dataframe\n",
    "cooking_text = pd.DataFrame(cooking_text,columns=['text'])"
   ]
  },
  {
   "cell_type": "code",
   "execution_count": 7,
   "metadata": {},
   "outputs": [],
   "source": [
    "cooking_model = cooking_text"
   ]
  },
  {
   "cell_type": "code",
   "execution_count": 8,
   "metadata": {},
   "outputs": [
    {
     "data": {
      "text/plain": [
       "(73426, 1)"
      ]
     },
     "execution_count": 8,
     "metadata": {},
     "output_type": "execute_result"
    }
   ],
   "source": [
    "cooking_model.shape"
   ]
  },
  {
   "cell_type": "code",
   "execution_count": 9,
   "metadata": {},
   "outputs": [
    {
     "data": {
      "text/plain": [
       "(73426, 1)"
      ]
     },
     "execution_count": 9,
     "metadata": {},
     "output_type": "execute_result"
    }
   ],
   "source": [
    "cooking_text.shape"
   ]
  },
  {
   "cell_type": "code",
   "execution_count": 10,
   "metadata": {},
   "outputs": [],
   "source": [
    "#creating new columns for analysis of the pictures, removed and deleted posts in each subreddit\n",
    "\n",
    "#The pictures were all in in the text with the format [](link) so the hypertext to capture them looks for link \n",
    "#in paranthesis. \n",
    "cooking_text['picture'] = [1 if re.search('\\((http.+)\\)',str(i)) != None else 0 for i in cooking_text['text']]\n",
    "\n",
    "cooking_text['removed'] = [1 if i == '[removed]' else 0 for i in cooking_text['text']]\n",
    "\n",
    "cooking_text['deleted'] = [1 if i == '[deleted]' else 0 for i in cooking_text['text']]"
   ]
  },
  {
   "cell_type": "code",
   "execution_count": 11,
   "metadata": {},
   "outputs": [],
   "source": [
    "#creating the combined text for baking\n",
    "baking_text = pd.concat([baking_submissions['selftext'],baking_submissions['title'],baking_comments['body']])"
   ]
  },
  {
   "cell_type": "code",
   "execution_count": 12,
   "metadata": {},
   "outputs": [
    {
     "data": {
      "text/plain": [
       "(28892,)"
      ]
     },
     "execution_count": 12,
     "metadata": {},
     "output_type": "execute_result"
    }
   ],
   "source": [
    "baking_text.shape"
   ]
  },
  {
   "cell_type": "code",
   "execution_count": 13,
   "metadata": {},
   "outputs": [],
   "source": [
    "baking_text = pd.DataFrame(baking_text,columns=['text'])\n",
    "baking_model = baking_text"
   ]
  },
  {
   "cell_type": "code",
   "execution_count": 14,
   "metadata": {},
   "outputs": [
    {
     "data": {
      "text/plain": [
       "(28892, 1)"
      ]
     },
     "execution_count": 14,
     "metadata": {},
     "output_type": "execute_result"
    }
   ],
   "source": [
    "baking_model.shape"
   ]
  },
  {
   "cell_type": "code",
   "execution_count": 15,
   "metadata": {},
   "outputs": [],
   "source": [
    "baking_text['picture'] = [1 if re.search('\\((http.+)\\)',str(i)) != None else 0 for i in baking_text['text']]\n",
    "\n",
    "baking_text['removed'] = [1 if i == '[removed]' else 0 for i in baking_text['text']]\n",
    "\n",
    "baking_text['deleted'] = [1 if i == '[deleted]' else 0 for i in baking_text['text']]"
   ]
  },
  {
   "cell_type": "code",
   "execution_count": 16,
   "metadata": {},
   "outputs": [
    {
     "data": {
      "text/plain": [
       "0    0.978114\n",
       "1    0.021886\n",
       "Name: deleted, dtype: float64"
      ]
     },
     "execution_count": 16,
     "metadata": {},
     "output_type": "execute_result"
    }
   ],
   "source": [
    "cooking_text['deleted'].value_counts(normalize=True)"
   ]
  },
  {
   "cell_type": "code",
   "execution_count": 17,
   "metadata": {},
   "outputs": [
    {
     "data": {
      "text/plain": [
       "0    0.924359\n",
       "1    0.075641\n",
       "Name: removed, dtype: float64"
      ]
     },
     "execution_count": 17,
     "metadata": {},
     "output_type": "execute_result"
    }
   ],
   "source": [
    "cooking_text['removed'].value_counts(normalize=True)"
   ]
  },
  {
   "cell_type": "code",
   "execution_count": 18,
   "metadata": {},
   "outputs": [
    {
     "data": {
      "text/plain": [
       "0    0.965734\n",
       "1    0.034266\n",
       "Name: picture, dtype: float64"
      ]
     },
     "execution_count": 18,
     "metadata": {},
     "output_type": "execute_result"
    }
   ],
   "source": [
    "cooking_text['picture'].value_counts(normalize=True)"
   ]
  },
  {
   "cell_type": "code",
   "execution_count": 19,
   "metadata": {},
   "outputs": [
    {
     "data": {
      "text/plain": [
       "0    0.985498\n",
       "1    0.014502\n",
       "Name: deleted, dtype: float64"
      ]
     },
     "execution_count": 19,
     "metadata": {},
     "output_type": "execute_result"
    }
   ],
   "source": [
    "baking_text['deleted'].value_counts(normalize=True)"
   ]
  },
  {
   "cell_type": "code",
   "execution_count": 20,
   "metadata": {},
   "outputs": [
    {
     "data": {
      "text/plain": [
       "0    0.9964\n",
       "1    0.0036\n",
       "Name: removed, dtype: float64"
      ]
     },
     "execution_count": 20,
     "metadata": {},
     "output_type": "execute_result"
    }
   ],
   "source": [
    "baking_text['removed'].value_counts(normalize=True)"
   ]
  },
  {
   "cell_type": "code",
   "execution_count": 21,
   "metadata": {},
   "outputs": [
    {
     "data": {
      "text/plain": [
       "0    0.949052\n",
       "1    0.050948\n",
       "Name: picture, dtype: float64"
      ]
     },
     "execution_count": 21,
     "metadata": {},
     "output_type": "execute_result"
    }
   ],
   "source": [
    "baking_text['picture'].value_counts(normalize=True)"
   ]
  },
  {
   "cell_type": "code",
   "execution_count": 22,
   "metadata": {},
   "outputs": [
    {
     "data": {
      "text/plain": [
       "0    0.965734\n",
       "1    0.034266\n",
       "Name: picture, dtype: float64"
      ]
     },
     "execution_count": 22,
     "metadata": {},
     "output_type": "execute_result"
    }
   ],
   "source": [
    "cooking_text['picture'].value_counts(normalize=True)"
   ]
  },
  {
   "cell_type": "code",
   "execution_count": 23,
   "metadata": {},
   "outputs": [
    {
     "data": {
      "image/png": "[encoded data removed]",
      "text/plain": [
       "<Figure size 1152x648 with 1 Axes>"
      ]
     },
     "metadata": {
      "needs_background": "light"
     },
     "output_type": "display_data"
    }
   ],
   "source": [
    "N = 2\n",
    "ind = np.arange(N)  # the x locations for the groups\n",
    "width = 0.4       # the width of the bars\n",
    "\n",
    "#setting plot size\n",
    "fig = plt.figure(figsize=(16,9))\n",
    "ax = fig.add_subplot(111)\n",
    "\n",
    "#setting baking plot values\n",
    "baking = baking_text['picture'].value_counts(normalize=True)*100\n",
    "baking_plot = ax.bar(ind, baking, width, color='b')\n",
    "#setting cooking plot values\n",
    "cooking = cooking_text['picture'].value_counts(normalize=True)*100\n",
    "cooking_plot = ax.bar(ind+width, cooking, width, color='orange')\n",
    "\n",
    "#adding y label text and setting font size\n",
    "ax.set_ylabel('Percentage of Posts',fontsize=25)\n",
    "#setting X labels\n",
    "ax.set_xticks(ind+width/2)\n",
    "ax.set_xticklabels(('No Picture', 'Picture'),fontsize=25)\n",
    "#setting legend\n",
    "ax.legend( (baking_plot[0], cooking_plot[0]), ('Baking', 'Cooking') , fontsize=20)\n",
    "\n",
    "#setting title\n",
    "ax.set_title('Percentage Pictures',fontsize=30)\n",
    "\n",
    "plt.savefig('./Pictures.png',dpi=90)"
   ]
  },
  {
   "cell_type": "code",
   "execution_count": 24,
   "metadata": {},
   "outputs": [
    {
     "data": {
      "image/png": "[encoded data removed]",
      "text/plain": [
       "<Figure size 1152x648 with 1 Axes>"
      ]
     },
     "metadata": {
      "needs_background": "light"
     },
     "output_type": "display_data"
    }
   ],
   "source": [
    "N = 2\n",
    "ind = np.arange(N)  # the x locations for the groups\n",
    "width = 0.4       # the width of the bars\n",
    "\n",
    "#setting plot size\n",
    "fig = plt.figure(figsize=(16,9))\n",
    "ax = fig.add_subplot(111)\n",
    "\n",
    "#setting baking plot values\n",
    "baking = baking_text['deleted'].value_counts(normalize=True)*100\n",
    "baking_plot = ax.bar(ind, baking, width, color='b')\n",
    "#setting cooking plot values\n",
    "cooking = cooking_text['deleted'].value_counts(normalize=True)*100\n",
    "cooking_plot = ax.bar(ind+width, cooking, width, color='orange')\n",
    "\n",
    "#adding y label text and setting font size\n",
    "ax.set_ylabel('Percentage of Posts',fontsize=25)\n",
    "#setting X labels\n",
    "ax.set_xticks(ind+width/2)\n",
    "ax.set_xticklabels(('Not Deleted', 'Deleted'),fontsize=25)\n",
    "#setting legend\n",
    "ax.legend( (baking_plot[0], cooking_plot[0]), ('Baking', 'Cooking') , fontsize=20)\n",
    "\n",
    "#setting title\n",
    "ax.set_title('Percentage Deleted Posts',fontsize=30)\n",
    "\n",
    "plt.savefig('./Deleted.png',dpi=90)"
   ]
  },
  {
   "cell_type": "code",
   "execution_count": 25,
   "metadata": {},
   "outputs": [
    {
     "data": {
      "image/png": "[encoded data removed]",
      "text/plain": [
       "<Figure size 1152x648 with 1 Axes>"
      ]
     },
     "metadata": {
      "needs_background": "light"
     },
     "output_type": "display_data"
    }
   ],
   "source": [
    "N = 2\n",
    "ind = np.arange(N)  # the x locations for the groups\n",
    "width = 0.4       # the width of the bars\n",
    "\n",
    "#setting plot size\n",
    "fig = plt.figure(figsize=(16,9))\n",
    "ax = fig.add_subplot(111)\n",
    "\n",
    "#setting baking plot values\n",
    "baking = baking_text['removed'].value_counts(normalize=True)*100\n",
    "baking_plot = ax.bar(ind, baking, width, color='b')\n",
    "#setting cooking plot values\n",
    "cooking = cooking_text['removed'].value_counts(normalize=True)*100\n",
    "cooking_plot = ax.bar(ind+width, cooking, width, color='orange')\n",
    "\n",
    "#adding y label text and setting font size\n",
    "ax.set_ylabel('Percentage of Posts',fontsize=25)\n",
    "#setting X labels\n",
    "ax.set_xticks(ind+width/2)\n",
    "ax.set_xticklabels(('Not Removed', 'Removed'),fontsize=25)\n",
    "#setting legend\n",
    "ax.legend( (baking_plot[0], cooking_plot[0]), ('Baking', 'Cooking') , fontsize=20)\n",
    "\n",
    "#setting title\n",
    "ax.set_title('Percentage Removed Posts',fontsize=30)\n",
    "\n",
    "plt.savefig('./Removed.png',dpi=90)"
   ]
  },
  {
   "cell_type": "markdown",
   "metadata": {},
   "source": [
    "The Baking subreddit has more pictures than the Cooking subreddit. But the Cooking subreddit has more removed posts as well as more deleted posts. Baking has almost no removed posts and cooking has 7%. I would guess that may have to do with the size of the subreddits but it requires more investigation."
   ]
  },
  {
   "cell_type": "markdown",
   "metadata": {},
   "source": [
    "# Natural Language Processing"
   ]
  },
  {
   "cell_type": "code",
   "execution_count": 26,
   "metadata": {},
   "outputs": [],
   "source": [
    "# Function inspired from Matt Brems 5.05-lesson-nlp_i \n",
    "\n",
    "def post_to_words(raw_post):\n",
    "    # Function to convert a raw text post to a string of words\n",
    "    # The input is a single string (title/self text/comment), and \n",
    "    # the output is a single string \n",
    "    #\n",
    "#     # 1. Remove HTML\n",
    "    review_text = BeautifulSoup(raw_post).get_text()\n",
    "    #\n",
    "    #removes all http link text\n",
    "    no_pictures = re.sub('\\((http.+)\\)',' ',review_text)\n",
    "    no_links = re.sub('(http.\\S+)',' ',no_pictures)\n",
    "    \n",
    "    # 2. Remove non-letters        \n",
    "    letters_only = re.sub(\"[^a-zA-Z]\", \" \", no_links)\n",
    "    #\n",
    "    # 3. Convert to lower case, split into individual words\n",
    "    words = letters_only.lower().split()\n",
    "    #\n",
    "    # 4. In Python, searching a set is much faster than searching\n",
    "    #   a list, so convert the stop words to a set\n",
    "    stops = set(stopwords.words('english'))\n",
    "    # a\n",
    "    # 5. Remove stop words\n",
    "    meaningful_words = [w for w in words if not w in stops]\n",
    "\n",
    "    #\n",
    "    # 6. Join the words back into one string separated by space, \n",
    "    # and return the result.\n",
    "    return(\" \".join(meaningful_words))"
   ]
  },
  {
   "cell_type": "code",
   "execution_count": 27,
   "metadata": {},
   "outputs": [],
   "source": [
    "#convert baking text\n",
    "baking_text['text'] = baking_text['text'].apply(lambda x: post_to_words(str(x)))\n",
    "#remove empty text\n",
    "baking_text = baking_text[baking_text['text'] != '']\n"
   ]
  },
  {
   "cell_type": "code",
   "execution_count": 28,
   "metadata": {},
   "outputs": [
    {
     "data": {
      "text/plain": [
       "(28747, 4)"
      ]
     },
     "execution_count": 28,
     "metadata": {},
     "output_type": "execute_result"
    }
   ],
   "source": [
    "baking_text.shape"
   ]
  },
  {
   "cell_type": "code",
   "execution_count": 29,
   "metadata": {},
   "outputs": [
    {
     "data": {
      "text/html": [
       "<div>\n",
       "<style scoped>\n",
       "    .dataframe tbody tr th:only-of-type {\n",
       "        vertical-align: middle;\n",
       "    }\n",
       "\n",
       "    .dataframe tbody tr th {\n",
       "        vertical-align: top;\n",
       "    }\n",
       "\n",
       "    .dataframe thead th {\n",
       "        text-align: right;\n",
       "    }\n",
       "</style>\n",
       "<table border=\"1\" class=\"dataframe\">\n",
       "  <thead>\n",
       "    <tr style=\"text-align: right;\">\n",
       "      <th></th>\n",
       "      <th>text</th>\n",
       "      <th>picture</th>\n",
       "      <th>removed</th>\n",
       "      <th>deleted</th>\n",
       "    </tr>\n",
       "  </thead>\n",
       "  <tbody>\n",
       "    <tr>\n",
       "      <th>0</th>\n",
       "      <td>anyone experience making brioche without stand...</td>\n",
       "      <td>0</td>\n",
       "      <td>0</td>\n",
       "      <td>0</td>\n",
       "    </tr>\n",
       "    <tr>\n",
       "      <th>1</th>\n",
       "      <td>looking baking youtube channels run people chi...</td>\n",
       "      <td>0</td>\n",
       "      <td>0</td>\n",
       "      <td>0</td>\n",
       "    </tr>\n",
       "    <tr>\n",
       "      <th>2</th>\n",
       "      <td>alternate view</td>\n",
       "      <td>1</td>\n",
       "      <td>0</td>\n",
       "      <td>0</td>\n",
       "    </tr>\n",
       "    <tr>\n",
       "      <th>3</th>\n",
       "      <td>im planing making coffee chocolate glaze says ...</td>\n",
       "      <td>0</td>\n",
       "      <td>0</td>\n",
       "      <td>0</td>\n",
       "    </tr>\n",
       "    <tr>\n",
       "      <th>4</th>\n",
       "      <td>made loads cakes bundt shapes attractive even ...</td>\n",
       "      <td>0</td>\n",
       "      <td>0</td>\n",
       "      <td>0</td>\n",
       "    </tr>\n",
       "  </tbody>\n",
       "</table>\n",
       "</div>"
      ],
      "text/plain": [
       "                                                text  picture  removed  \\\n",
       "0  anyone experience making brioche without stand...        0        0   \n",
       "1  looking baking youtube channels run people chi...        0        0   \n",
       "2                                     alternate view        1        0   \n",
       "3  im planing making coffee chocolate glaze says ...        0        0   \n",
       "4  made loads cakes bundt shapes attractive even ...        0        0   \n",
       "\n",
       "   deleted  \n",
       "0        0  \n",
       "1        0  \n",
       "2        0  \n",
       "3        0  \n",
       "4        0  "
      ]
     },
     "execution_count": 29,
     "metadata": {},
     "output_type": "execute_result"
    }
   ],
   "source": [
    "baking_text.head()"
   ]
  },
  {
   "cell_type": "code",
   "execution_count": 30,
   "metadata": {},
   "outputs": [],
   "source": [
    "#removing the posts that are just deleted and removed\n",
    "baking_text = baking_text[(baking_text['text'] != 'deleted')&(baking_text['text'] != 'removed')]"
   ]
  },
  {
   "cell_type": "code",
   "execution_count": 31,
   "metadata": {},
   "outputs": [
    {
     "data": {
      "text/plain": [
       "(28224, 4)"
      ]
     },
     "execution_count": 31,
     "metadata": {},
     "output_type": "execute_result"
    }
   ],
   "source": [
    "baking_text.shape"
   ]
  },
  {
   "cell_type": "code",
   "execution_count": 32,
   "metadata": {},
   "outputs": [],
   "source": [
    "cooking_text['text'] = cooking_text['text'].apply(lambda x: post_to_words(str(x)))\n",
    "\n",
    "cooking_text = cooking_text[cooking_text['text'] != '']"
   ]
  },
  {
   "cell_type": "code",
   "execution_count": 33,
   "metadata": {},
   "outputs": [
    {
     "data": {
      "text/plain": [
       "(73019, 4)"
      ]
     },
     "execution_count": 33,
     "metadata": {},
     "output_type": "execute_result"
    }
   ],
   "source": [
    "cooking_text.shape"
   ]
  },
  {
   "cell_type": "code",
   "execution_count": 34,
   "metadata": {},
   "outputs": [],
   "source": [
    "cooking_text = cooking_text[(cooking_text['deleted'] != 1)&(cooking_text['removed'] != 1)]"
   ]
  },
  {
   "cell_type": "code",
   "execution_count": 35,
   "metadata": {},
   "outputs": [
    {
     "data": {
      "text/plain": [
       "(65858, 4)"
      ]
     },
     "execution_count": 35,
     "metadata": {},
     "output_type": "execute_result"
    }
   ],
   "source": [
    "cooking_text.shape"
   ]
  },
  {
   "cell_type": "code",
   "execution_count": 36,
   "metadata": {},
   "outputs": [],
   "source": [
    "#code from Sarah Scolnik\n",
    "#instantiate the Lemmatizer\n",
    "lemmatizer = nltk.WordNetLemmatizer()\n",
    "\n",
    "#creating a fuction to lemmatize using noun.\n",
    "def lemmatize_words_noun(text):\n",
    "    #splitting the text into words\n",
    "    words = text.split()\n",
    "    #creating an empty string with a space to add to\n",
    "    lemma_words = ''\n",
    "    #looping though all the words in the text\n",
    "    for word in words:\n",
    "        # putting all the words back together and lemmatizing them using noun\n",
    "        lemma_words += (lemmatizer.lemmatize(word,pos='n') + ' ')\n",
    "    return lemma_words  \n",
    "\n",
    "#creating a fuction to lemmatize using verb.\n",
    "def lemmatize_words_verb(text):\n",
    "    #splitting the text into words\n",
    "    words = text.split()\n",
    "    #creating an empty string with a space to add to\n",
    "    lemma_words = ''\n",
    "    #looping though all the words in the text\n",
    "    for word in words:\n",
    "        # putting all the words back together and lemmatizing them using verb\n",
    "        lemma_words += (lemmatizer.lemmatize(word,pos='v') + ' ')\n",
    "    return lemma_words  "
   ]
  },
  {
   "cell_type": "code",
   "execution_count": 37,
   "metadata": {},
   "outputs": [],
   "source": [
    "#this list of stop words were created by reviewing the most common words that were found in both subreddits\n",
    "mystopwords = text.ENGLISH_STOP_WORDS.union(['add','good','like','look','make','try','use','want','recipe',\n",
    "                                           'think','thank','time','need','time','help','work','really','know','thing'])"
   ]
  },
  {
   "cell_type": "code",
   "execution_count": 38,
   "metadata": {},
   "outputs": [],
   "source": [
    "#running noun lemmatizer \n",
    "cooking_text['text'] = cooking_text['text'].apply(lemmatize_words_noun)\n",
    "baking_text['text'] = baking_text['text'].apply(lemmatize_words_noun)"
   ]
  },
  {
   "cell_type": "code",
   "execution_count": 39,
   "metadata": {},
   "outputs": [],
   "source": [
    "#running verb lemmatizer. This was required to removed the cook and cooking as both are kept when you only do noun.\n",
    "cooking_text['text'] = cooking_text['text'].apply(lemmatize_words_verb)\n",
    "baking_text['text'] = baking_text['text'].apply(lemmatize_words_verb)"
   ]
  },
  {
   "cell_type": "code",
   "execution_count": 40,
   "metadata": {},
   "outputs": [],
   "source": [
    "#Using count vectorizer to identify the most common words\n",
    "vectorizer = CountVectorizer(analyzer = \"word\",\n",
    "                             tokenizer = None,\n",
    "                             preprocessor = None,\n",
    "                             stop_words = mystopwords,\n",
    "                             max_features = 20) "
   ]
  },
  {
   "cell_type": "code",
   "execution_count": 41,
   "metadata": {},
   "outputs": [],
   "source": [
    "cookingvect = vectorizer.fit_transform(cooking_text['text'])"
   ]
  },
  {
   "cell_type": "code",
   "execution_count": 42,
   "metadata": {},
   "outputs": [
    {
     "data": {
      "text/plain": [
       "cook       30.058611\n",
       "chicken    10.683592\n",
       "sauce      10.373835\n",
       "food        8.647393\n",
       "pan         7.942847\n",
       "oil         7.142640\n",
       "eat         7.007501\n",
       "meat        6.911841\n",
       "fry         6.524644\n",
       "way         6.515533\n",
       "rice        6.445686\n",
       "dish        6.398615\n",
       "buy         6.000790\n",
       "egg         5.900574\n",
       "taste       5.803395\n",
       "water       5.756324\n",
       "oven        5.698624\n",
       "salt        5.684959\n",
       "idea        5.680403\n",
       "cheese      5.244617\n",
       "dtype: float64"
      ]
     },
     "execution_count": 42,
     "metadata": {},
     "output_type": "execute_result"
    }
   ],
   "source": [
    "#creating a data frame to review the instances.\n",
    "cookwords = pd.DataFrame(cookingvect.toarray(),columns=vectorizer.get_feature_names())\n",
    "cookwords.mean().sort_values(ascending=False)*100"
   ]
  },
  {
   "cell_type": "code",
   "execution_count": 43,
   "metadata": {},
   "outputs": [],
   "source": [
    "#reviewing baking\n",
    "vectorizer = CountVectorizer(analyzer = \"word\",\n",
    "                             tokenizer = None,\n",
    "                             preprocessor = None,\n",
    "                             stop_words = mystopwords,\n",
    "                             max_features = 20) \n",
    "bakingvect = vectorizer.fit_transform(baking_text['text'])"
   ]
  },
  {
   "cell_type": "code",
   "execution_count": 44,
   "metadata": {},
   "outputs": [
    {
     "data": {
      "text/plain": [
       "cake         34.598214\n",
       "bake         34.375000\n",
       "chocolate    13.056264\n",
       "sugar        11.206774\n",
       "butter        9.977324\n",
       "cooky         9.516723\n",
       "flour         8.886054\n",
       "bread         8.191610\n",
       "cream         7.823129\n",
       "pie           7.337727\n",
       "cup           7.312925\n",
       "love          7.110969\n",
       "dough         6.933815\n",
       "egg           6.912557\n",
       "mix           6.728316\n",
       "cupcake       6.498016\n",
       "idea          6.381094\n",
       "frost         5.998441\n",
       "cookie        5.980726\n",
       "oven          5.980726\n",
       "dtype: float64"
      ]
     },
     "execution_count": 44,
     "metadata": {},
     "output_type": "execute_result"
    }
   ],
   "source": [
    "bakewords = pd.DataFrame(bakingvect.toarray(),columns=vectorizer.get_feature_names())\n",
    "bakewords.mean().sort_values(ascending=False)*100"
   ]
  },
  {
   "cell_type": "code",
   "execution_count": 45,
   "metadata": {},
   "outputs": [],
   "source": [
    "#I played around with count vectorizer and tfidf to see what created the best model I found that the best was \n",
    "#(1,4) ngrams. This is to check what were the top words with this.\n",
    "vectorizerbak = TfidfVectorizer(stop_words=mystopwords,\n",
    "                            ngram_range = (1,4),\n",
    "                            max_features = 15)\n",
    "featuresbak = vectorizerbak.fit_transform(baking_text['text'])"
   ]
  },
  {
   "cell_type": "code",
   "execution_count": 46,
   "metadata": {},
   "outputs": [
    {
     "data": {
      "text/plain": [
       "cake         14.931565\n",
       "bake         14.315174\n",
       "chocolate     5.564323\n",
       "cooky         4.632482\n",
       "love          4.258447\n",
       "bread         4.085571\n",
       "pie           3.673569\n",
       "sugar         3.484594\n",
       "butter        3.145238\n",
       "cream         3.083878\n",
       "flour         2.695615\n",
       "dough         2.648519\n",
       "mix           2.219289\n",
       "egg           2.189933\n",
       "cup           1.586343\n",
       "dtype: float64"
      ]
     },
     "execution_count": 46,
     "metadata": {},
     "output_type": "execute_result"
    }
   ],
   "source": [
    "bakewords = pd.DataFrame(featuresbak.toarray(),columns=vectorizerbak.get_feature_names())\n",
    "bakewords.mean().sort_values(ascending=False)*100"
   ]
  },
  {
   "cell_type": "code",
   "execution_count": 47,
   "metadata": {},
   "outputs": [
    {
     "data": {
      "text/plain": [
       "cook       13.364831\n",
       "chicken     4.839531\n",
       "food        4.601524\n",
       "sauce       4.563306\n",
       "eat         3.644702\n",
       "way         3.587163\n",
       "buy         3.586749\n",
       "pan         3.420908\n",
       "dish        3.278404\n",
       "meat        3.255789\n",
       "taste       2.930906\n",
       "oil         2.769730\n",
       "egg         2.706554\n",
       "fry         2.670633\n",
       "rice        2.617324\n",
       "dtype: float64"
      ]
     },
     "execution_count": 47,
     "metadata": {},
     "output_type": "execute_result"
    }
   ],
   "source": [
    "vectorizercoo = TfidfVectorizer(stop_words=mystopwords,\n",
    "                            ngram_range = (1,4),\n",
    "                            max_features = 15)\n",
    "featurescoo = vectorizercoo.fit_transform(cooking_text['text'])\n",
    "cookwords = pd.DataFrame(featurescoo.toarray(),columns=vectorizercoo.get_feature_names())\n",
    "cookwords.mean().sort_values(ascending=False)*100"
   ]
  },
  {
   "cell_type": "markdown",
   "metadata": {},
   "source": [
    "Though we dont see the longer than 1 ngrams in the top 30 when I decrease the number of ngrams I found that the model preformed worse"
   ]
  },
  {
   "cell_type": "markdown",
   "metadata": {},
   "source": [
    "### Cleaning Function"
   ]
  },
  {
   "cell_type": "code",
   "execution_count": 48,
   "metadata": {},
   "outputs": [],
   "source": [
    "def cleaning(text):\n",
    "    posttowords = text.apply(lambda x: post_to_words(str(x)))\n",
    "    lemmatizer = nltk.WordNetLemmatizer()\n",
    "    nounlems = posttowords.apply(lemmatize_words_noun)\n",
    "    verblems = nounlems.apply(lemmatize_words_verb)\n",
    "    return verblems"
   ]
  },
  {
   "cell_type": "markdown",
   "metadata": {},
   "source": [
    "# Modeling"
   ]
  },
  {
   "cell_type": "code",
   "execution_count": 49,
   "metadata": {},
   "outputs": [],
   "source": [
    "#adding a column that identifies the subreddit. Marking cooking as 1\n",
    "cooking_model['subreddit'] = 1"
   ]
  },
  {
   "cell_type": "code",
   "execution_count": 50,
   "metadata": {},
   "outputs": [],
   "source": [
    "#adding a column that identifies the subreddit. Marking cooking as 0\n",
    "baking_model['subreddit'] = 0"
   ]
  },
  {
   "cell_type": "code",
   "execution_count": 51,
   "metadata": {},
   "outputs": [
    {
     "data": {
      "text/plain": [
       "(73426, 5)"
      ]
     },
     "execution_count": 51,
     "metadata": {},
     "output_type": "execute_result"
    }
   ],
   "source": [
    "cooking_model.shape"
   ]
  },
  {
   "cell_type": "code",
   "execution_count": 52,
   "metadata": {},
   "outputs": [
    {
     "data": {
      "text/plain": [
       "(28892, 5)"
      ]
     },
     "execution_count": 52,
     "metadata": {},
     "output_type": "execute_result"
    }
   ],
   "source": [
    "baking_model.shape"
   ]
  },
  {
   "cell_type": "code",
   "execution_count": 53,
   "metadata": {},
   "outputs": [
    {
     "data": {
      "text/html": [
       "<div>\n",
       "<style scoped>\n",
       "    .dataframe tbody tr th:only-of-type {\n",
       "        vertical-align: middle;\n",
       "    }\n",
       "\n",
       "    .dataframe tbody tr th {\n",
       "        vertical-align: top;\n",
       "    }\n",
       "\n",
       "    .dataframe thead th {\n",
       "        text-align: right;\n",
       "    }\n",
       "</style>\n",
       "<table border=\"1\" class=\"dataframe\">\n",
       "  <thead>\n",
       "    <tr style=\"text-align: right;\">\n",
       "      <th></th>\n",
       "      <th>text</th>\n",
       "      <th>picture</th>\n",
       "      <th>removed</th>\n",
       "      <th>deleted</th>\n",
       "      <th>subreddit</th>\n",
       "    </tr>\n",
       "  </thead>\n",
       "  <tbody>\n",
       "    <tr>\n",
       "      <th>0</th>\n",
       "      <td>anyone experience making brioche without stand...</td>\n",
       "      <td>0</td>\n",
       "      <td>0</td>\n",
       "      <td>0</td>\n",
       "      <td>0</td>\n",
       "    </tr>\n",
       "    <tr>\n",
       "      <th>1</th>\n",
       "      <td>looking baking youtube channels run people chi...</td>\n",
       "      <td>0</td>\n",
       "      <td>0</td>\n",
       "      <td>0</td>\n",
       "      <td>0</td>\n",
       "    </tr>\n",
       "    <tr>\n",
       "      <th>2</th>\n",
       "      <td>alternate view</td>\n",
       "      <td>1</td>\n",
       "      <td>0</td>\n",
       "      <td>0</td>\n",
       "      <td>0</td>\n",
       "    </tr>\n",
       "    <tr>\n",
       "      <th>3</th>\n",
       "      <td>im planing making coffee chocolate glaze says ...</td>\n",
       "      <td>0</td>\n",
       "      <td>0</td>\n",
       "      <td>0</td>\n",
       "      <td>0</td>\n",
       "    </tr>\n",
       "    <tr>\n",
       "      <th>4</th>\n",
       "      <td>made loads cakes bundt shapes attractive even ...</td>\n",
       "      <td>0</td>\n",
       "      <td>0</td>\n",
       "      <td>0</td>\n",
       "      <td>0</td>\n",
       "    </tr>\n",
       "  </tbody>\n",
       "</table>\n",
       "</div>"
      ],
      "text/plain": [
       "                                                text  picture  removed  \\\n",
       "0  anyone experience making brioche without stand...        0        0   \n",
       "1  looking baking youtube channels run people chi...        0        0   \n",
       "2                                     alternate view        1        0   \n",
       "3  im planing making coffee chocolate glaze says ...        0        0   \n",
       "4  made loads cakes bundt shapes attractive even ...        0        0   \n",
       "\n",
       "   deleted  subreddit  \n",
       "0        0          0  \n",
       "1        0          0  \n",
       "2        0          0  \n",
       "3        0          0  \n",
       "4        0          0  "
      ]
     },
     "execution_count": 53,
     "metadata": {},
     "output_type": "execute_result"
    }
   ],
   "source": [
    "baking_model.head()"
   ]
  },
  {
   "cell_type": "code",
   "execution_count": 54,
   "metadata": {},
   "outputs": [],
   "source": [
    "#creating a text that is all of the text together.\n",
    "merged_text = pd.concat([baking_model,cooking_model],axis=0)"
   ]
  },
  {
   "cell_type": "code",
   "execution_count": 55,
   "metadata": {},
   "outputs": [
    {
     "data": {
      "text/plain": [
       "(102318, 5)"
      ]
     },
     "execution_count": 55,
     "metadata": {},
     "output_type": "execute_result"
    }
   ],
   "source": [
    "merged_text.shape"
   ]
  },
  {
   "cell_type": "code",
   "execution_count": 56,
   "metadata": {},
   "outputs": [
    {
     "data": {
      "text/plain": [
       "1    0.717625\n",
       "0    0.282375\n",
       "Name: subreddit, dtype: float64"
      ]
     },
     "execution_count": 56,
     "metadata": {},
     "output_type": "execute_result"
    }
   ],
   "source": [
    "merged_text['subreddit'].value_counts(normalize=True)"
   ]
  },
  {
   "cell_type": "markdown",
   "metadata": {},
   "source": [
    "#### The baseline is 71.7% for cooking"
   ]
  },
  {
   "cell_type": "code",
   "execution_count": 57,
   "metadata": {},
   "outputs": [],
   "source": [
    "#defining X as the tfidfed vectorized words and instances and Y as the subreddit\n",
    "X = merged_text['text']\n",
    "y = merged_text['subreddit']\n",
    "\n",
    "#train test spiltting for model evaluations.\n",
    "X_train,X_test,y_train,y_test = train_test_split(X,y,test_size = 0.50,random_state=42,stratify=y)"
   ]
  },
  {
   "cell_type": "code",
   "execution_count": 58,
   "metadata": {},
   "outputs": [],
   "source": [
    "X_train_cl = cleaning(X_train)"
   ]
  },
  {
   "cell_type": "code",
   "execution_count": 59,
   "metadata": {},
   "outputs": [],
   "source": [
    "X_test_cl = cleaning(X_test)"
   ]
  },
  {
   "cell_type": "code",
   "execution_count": 76,
   "metadata": {},
   "outputs": [],
   "source": [
    "#vectorizing for modeling. I played around with the number of features and 20000 did the best with 1,4 ngrams\n",
    "vectorizer = TfidfVectorizer(stop_words=stopwords,\n",
    "                            ngram_range = (1,4),\n",
    "                            max_features = 20000)\n",
    "features = vectorizer.fit_transform(merged_text['text']).toarray()\n"
   ]
  },
  {
   "cell_type": "code",
   "execution_count": 72,
   "metadata": {},
   "outputs": [
    {
     "data": {
      "text/plain": [
       "(94082, 20000)"
      ]
     },
     "execution_count": 72,
     "metadata": {},
     "output_type": "execute_result"
    }
   ],
   "source": [
    "features.shape"
   ]
  },
  {
   "cell_type": "code",
   "execution_count": 74,
   "metadata": {},
   "outputs": [
    {
     "name": "stdout",
     "output_type": "stream",
     "text": [
      "0.8890967453923173\n"
     ]
    }
   ],
   "source": [
    "# I used this logistic regression to check on the parameters of tfidf/counvectorizer since it ran fast\n",
    "logreg = LogisticRegression(penalty='l1',C=1)\n",
    "\n",
    "logreg.fit(X_train,y_train)\n",
    "print(logreg.score(X_train,y_train))"
   ]
  },
  {
   "cell_type": "code",
   "execution_count": 75,
   "metadata": {},
   "outputs": [
    {
     "data": {
      "text/plain": [
       "0.8772347526625709"
      ]
     },
     "execution_count": 75,
     "metadata": {},
     "output_type": "execute_result"
    }
   ],
   "source": [
    "logreg.score(X_test,y_test)"
   ]
  },
  {
   "cell_type": "markdown",
   "metadata": {},
   "source": [
    "#### Logistic Regression"
   ]
  },
  {
   "cell_type": "code",
   "execution_count": 66,
   "metadata": {},
   "outputs": [
    {
     "name": "stdout",
     "output_type": "stream",
     "text": [
      "CPU times: user 3min 9s, sys: 6.45 s, total: 3min 16s\n",
      "Wall time: 3min 12s\n"
     ]
    }
   ],
   "source": [
    "%%time\n",
    "pipe = Pipeline([\n",
    "    ('tfidf', TfidfVectorizer(stop_words=mystopwords,\n",
    "                            ngram_range = (1,4),\n",
    "                            max_features = 20000)),\n",
    "    ('logreg', LogisticRegression())\n",
    "])\n",
    "params = {\n",
    "    'logreg__penalty': ['l1','l2'],\n",
    "    'logreg__C': [0.1, 1, 10]\n",
    "    \n",
    "}\n",
    "grid = GridSearchCV(pipe,param_grid=params)\n",
    "grid.fit(X_train_cl,y_train)"
   ]
  },
  {
   "cell_type": "code",
   "execution_count": 71,
   "metadata": {},
   "outputs": [
    {
     "data": {
      "text/plain": [
       "[('tfidf',\n",
       "  TfidfVectorizer(analyzer='word', binary=False, decode_error='strict',\n",
       "          dtype=<class 'numpy.int64'>, encoding='utf-8', input='content',\n",
       "          lowercase=True, max_df=1.0, max_features=20000, min_df=1,\n",
       "          ngram_range=(1, 4), norm='l2', preprocessor=None, smooth_idf=True,\n",
       "          stop_words=frozenset({'you', 'throughout', 'hundred', 'may', 'other', 'her', 'whither', 'itself', 'somewhere', 'below', 'being', 'five', 'me', 'its', 'himself', 'take', 'across', 'hers', 'our', 'fill', 'am', 'between', 'put', 'that', 'through', 'none', 'about', 'over', 'three', 'noone', 'interest', ...etail', 'towards', 'when', 'bill', 'against', 'please', 'nine', 'think', 'either', 'try', 'before'}),\n",
       "          strip_accents=None, sublinear_tf=False,\n",
       "          token_pattern='(?u)\\\\b\\\\w\\\\w+\\\\b', tokenizer=None, use_idf=True,\n",
       "          vocabulary=None)),\n",
       " ('logreg',\n",
       "  LogisticRegression(C=1, class_weight=None, dual=False, fit_intercept=True,\n",
       "            intercept_scaling=1, max_iter=100, multi_class='ovr', n_jobs=1,\n",
       "            penalty='l2', random_state=None, solver='liblinear', tol=0.0001,\n",
       "            verbose=0, warm_start=False))]"
      ]
     },
     "execution_count": 71,
     "metadata": {},
     "output_type": "execute_result"
    }
   ],
   "source": [
    "grid.best_estimator_.steps"
   ]
  },
  {
   "cell_type": "code",
   "execution_count": 73,
   "metadata": {},
   "outputs": [
    {
     "name": "stdout",
     "output_type": "stream",
     "text": [
      "train 0.9009362966437968\n",
      "test 0.8812134717254051\n"
     ]
    }
   ],
   "source": [
    "print('train',grid.score(X_train_cl,y_train))\n",
    "print('test',grid.score(X_test_cl,y_test))"
   ]
  },
  {
   "cell_type": "markdown",
   "metadata": {},
   "source": [
    "#### Random Forest Classifier\n",
    "\n",
    "The size of my data made it so that I was not able to run grid search with Random forest on my computer so I tested the different n_estimators indivually."
   ]
  },
  {
   "cell_type": "code",
   "execution_count": 88,
   "metadata": {},
   "outputs": [
    {
     "name": "stdout",
     "output_type": "stream",
     "text": [
      "CPU times: user 3min 26s, sys: 3.19 s, total: 3min 29s\n",
      "Wall time: 3min 30s\n"
     ]
    }
   ],
   "source": [
    "%%time\n",
    "pipe = Pipeline([\n",
    "    ('tfidf', TfidfVectorizer(stop_words=mystopwords,\n",
    "                            ngram_range = (1,4),\n",
    "                            max_features = 20000)),\n",
    "    ('rf', RandomForestClassifier())\n",
    "])\n",
    "params = {\n",
    "    'rf__n_estimators': [30,10]    \n",
    "}\n",
    "grid = GridSearchCV(pipe,param_grid=params)\n",
    "grid.fit(X_train_cl,y_train)"
   ]
  },
  {
   "cell_type": "code",
   "execution_count": 89,
   "metadata": {},
   "outputs": [
    {
     "name": "stdout",
     "output_type": "stream",
     "text": [
      "train 0.9738853378682147\n",
      "test 0.8724955530796146\n"
     ]
    }
   ],
   "source": [
    "print('train',grid.score(X_train_cl,y_train))\n",
    "print('test',grid.score(X_test_cl,y_test))"
   ]
  },
  {
   "cell_type": "code",
   "execution_count": 90,
   "metadata": {},
   "outputs": [
    {
     "data": {
      "text/plain": [
       "('rf',\n",
       " RandomForestClassifier(bootstrap=True, class_weight=None, criterion='gini',\n",
       "             max_depth=None, max_features='auto', max_leaf_nodes=None,\n",
       "             min_impurity_decrease=0.0, min_impurity_split=None,\n",
       "             min_samples_leaf=1, min_samples_split=2,\n",
       "             min_weight_fraction_leaf=0.0, n_estimators=30, n_jobs=1,\n",
       "             oob_score=False, random_state=None, verbose=0,\n",
       "             warm_start=False))"
      ]
     },
     "execution_count": 90,
     "metadata": {},
     "output_type": "execute_result"
    }
   ],
   "source": [
    "grid.best_estimator_.steps[1]"
   ]
  },
  {
   "cell_type": "code",
   "execution_count": 91,
   "metadata": {},
   "outputs": [
    {
     "name": "stdout",
     "output_type": "stream",
     "text": [
      "train 0.9745499325631853\n",
      "test 0.8746066185812857\n",
      "best estimator ('rf', RandomForestClassifier(bootstrap=True, class_weight=None, criterion='gini',\n",
      "            max_depth=None, max_features='auto', max_leaf_nodes=None,\n",
      "            min_impurity_decrease=0.0, min_impurity_split=None,\n",
      "            min_samples_leaf=1, min_samples_split=2,\n",
      "            min_weight_fraction_leaf=0.0, n_estimators=100, n_jobs=1,\n",
      "            oob_score=False, random_state=None, verbose=0,\n",
      "            warm_start=False))\n",
      "CPU times: user 13min 58s, sys: 7.15 s, total: 14min 5s\n",
      "Wall time: 14min 53s\n"
     ]
    }
   ],
   "source": [
    "%%time\n",
    "pipe = Pipeline([\n",
    "    ('tfidf', TfidfVectorizer(stop_words=mystopwords,\n",
    "                            ngram_range = (1,4),\n",
    "                            max_features = 20000)),\n",
    "    ('rf', RandomForestClassifier())\n",
    "])\n",
    "params = {\n",
    "    'rf__n_estimators': [20,40,60,100]    \n",
    "}\n",
    "grid = GridSearchCV(pipe,param_grid=params)\n",
    "grid.fit(X_train_cl,y_train)\n",
    "\n",
    "print('train',grid.score(X_train_cl,y_train))\n",
    "print('test',grid.score(X_test_cl,y_test))\n",
    "print('best estimator',grid.best_estimator_.steps[1])"
   ]
  },
  {
   "cell_type": "markdown",
   "metadata": {},
   "source": [
    "### Naive Bayes"
   ]
  },
  {
   "cell_type": "code",
   "execution_count": 92,
   "metadata": {},
   "outputs": [
    {
     "name": "stdout",
     "output_type": "stream",
     "text": [
      "train 0.8903614222326472\n",
      "test 0.8714400203287789\n",
      "CPU times: user 15.9 s, sys: 645 ms, total: 16.6 s\n",
      "Wall time: 16.7 s\n"
     ]
    }
   ],
   "source": [
    "%%time\n",
    "pipe = Pipeline([\n",
    "    ('tfidf', TfidfVectorizer(stop_words=mystopwords,\n",
    "                            ngram_range = (1,4),\n",
    "                            max_features = 20000)),\n",
    "    ('nb', MultinomialNB())\n",
    "])\n",
    "\n",
    "pipe.fit(X_train_cl,y_train)\n",
    "\n",
    "print('train',pipe.score(X_train_cl,y_train))\n",
    "print('test',pipe.score(X_test_cl,y_test))\n",
    "\n"
   ]
  },
  {
   "cell_type": "code",
   "execution_count": 87,
   "metadata": {},
   "outputs": [
    {
     "name": "stdout",
     "output_type": "stream",
     "text": [
      "train 0.8870559724495652\n",
      "test 0.8698794668480687\n"
     ]
    }
   ],
   "source": [
    "print('train',nb.score(X_train,y_train))\n",
    "print('test',nb.score(X_test,y_test))"
   ]
  },
  {
   "cell_type": "code",
   "execution_count": 93,
   "metadata": {},
   "outputs": [
    {
     "name": "stdout",
     "output_type": "stream",
     "text": [
      "train 0.7176254422486757\n",
      "test 0.7176254422486757\n",
      "CPU times: user 10min 3s, sys: 6.07 s, total: 10min 9s\n",
      "Wall time: 13min 33s\n"
     ]
    }
   ],
   "source": [
    "%%time\n",
    "pipe = Pipeline([\n",
    "    ('tfidf', TfidfVectorizer(stop_words=mystopwords,\n",
    "                            ngram_range = (1,4),\n",
    "                            max_features = 20000)),\n",
    "    ('SVC', SVC())\n",
    "])\n",
    "\n",
    "pipe.fit(X_train_cl,y_train)\n",
    "\n",
    "print('train',pipe.score(X_train_cl,y_train))\n",
    "print('test',pipe.score(X_test_cl,y_test))"
   ]
  },
  {
   "cell_type": "code",
   "execution_count": 96,
   "metadata": {},
   "outputs": [
    {
     "name": "stdout",
     "output_type": "stream",
     "text": [
      "train 0.7176254422486757\n",
      "test 0.7176254422486757\n",
      "best estimator ('svc', SVC(C=0.01, cache_size=200, class_weight=None, coef0=0.0,\n",
      "  decision_function_shape='ovr', degree=3, gamma='auto', kernel='rbf',\n",
      "  max_iter=-1, probability=False, random_state=None, shrinking=True,\n",
      "  tol=0.001, verbose=False))\n",
      "CPU times: user 42min 49s, sys: 23.3 s, total: 43min 12s\n",
      "Wall time: 43min 46s\n"
     ]
    }
   ],
   "source": [
    "%%time\n",
    "pipe = Pipeline([\n",
    "    ('tfidf', TfidfVectorizer(stop_words=mystopwords,\n",
    "                            ngram_range = (1,4),\n",
    "                            max_features = 20000)),\n",
    "    ('svc', SVC())\n",
    "])\n",
    "params = {\n",
    "    'svc__C': [0.01, 0.1, 10]\n",
    "}\n",
    "grid = GridSearchCV(pipe,param_grid=params)\n",
    "grid.fit(X_train_cl,y_train)\n",
    "\n",
    "print('train',grid.score(X_train_cl,y_train))\n",
    "print('test',grid.score(X_test_cl,y_test))\n",
    "print('best estimator',grid.best_estimator_.steps[1])"
   ]
  },
  {
   "cell_type": "code",
   "execution_count": 98,
   "metadata": {},
   "outputs": [
    {
     "name": "stdout",
     "output_type": "stream",
     "text": [
      "train 0.9467542367911804\n",
      "test 0.8819758009343419\n",
      "best estimator ('svc', SVC(C=1.0, cache_size=200, class_weight=None, coef0=0.0,\n",
      "  decision_function_shape='ovr', degree=3, gamma=1, kernel='rbf',\n",
      "  max_iter=-1, probability=False, random_state=None, shrinking=True,\n",
      "  tol=0.001, verbose=False))\n",
      "CPU times: user 51min 1s, sys: 27.9 s, total: 51min 29s\n",
      "Wall time: 52min 53s\n"
     ]
    }
   ],
   "source": [
    "%%time\n",
    "pipe = Pipeline([\n",
    "    ('tfidf', TfidfVectorizer(stop_words=mystopwords,\n",
    "                            ngram_range = (1,4),\n",
    "                            max_features = 20000)),\n",
    "    ('svc', SVC())\n",
    "])\n",
    "params = {\n",
    "    'svc__gamma': [0.01, 0.1, 1]\n",
    "}\n",
    "grid = GridSearchCV(pipe,param_grid=params)\n",
    "grid.fit(X_train_cl,y_train)\n",
    "\n",
    "print('train',grid.score(X_train_cl,y_train))\n",
    "print('test',grid.score(X_test_cl,y_test))\n",
    "print('best estimator',grid.best_estimator_.steps[1])"
   ]
  },
  {
   "cell_type": "code",
   "execution_count": 63,
   "metadata": {},
   "outputs": [
    {
     "name": "stdout",
     "output_type": "stream",
     "text": [
      "train 0.7197169608475537\n",
      "test 0.7191891944721359\n",
      "CPU times: user 10min 54s, sys: 4.93 s, total: 10min 59s\n",
      "Wall time: 11min 6s\n"
     ]
    }
   ],
   "source": [
    "%%time\n",
    "pipe = Pipeline([\n",
    "    ('tfidf', TfidfVectorizer(stop_words=mystopwords,\n",
    "                            ngram_range = (1,4),\n",
    "                            max_features = 20000)),\n",
    "    ('svc', SVC(C=0.01,gamma=1))\n",
    "])\n",
    "pipe.fit(X_train_cl,y_train)\n",
    "\n",
    "print('train',pipe.score(X_train_cl,y_train))\n",
    "print('test',pipe.score(X_test_cl,y_test))"
   ]
  },
  {
   "cell_type": "code",
   "execution_count": 60,
   "metadata": {},
   "outputs": [
    {
     "name": "stdout",
     "output_type": "stream",
     "text": [
      "train 0.973904884771008\n",
      "test 0.7313669149123322\n",
      "CPU times: user 29min 43s, sys: 7.57 s, total: 29min 51s\n",
      "Wall time: 30min 2s\n"
     ]
    }
   ],
   "source": [
    "%%time\n",
    "pipe = Pipeline([\n",
    "    ('tfidf', TfidfVectorizer(stop_words=mystopwords,\n",
    "                            ngram_range = (1,4),\n",
    "                            max_features = 20000)),\n",
    "    ('svc', SVC(C=1,gamma=10))\n",
    "])\n",
    "pipe.fit(X_train_cl,y_train)\n",
    "\n",
    "print('train',pipe.score(X_train_cl,y_train))\n",
    "print('test',pipe.score(X_test_cl,y_test))"
   ]
  },
  {
   "cell_type": "code",
   "execution_count": null,
   "metadata": {},
   "outputs": [],
   "source": []
  }
 ],
 "metadata": {
  "kernelspec": {
   "display_name": "Python 3",
   "language": "python",
   "name": "python3"
  },
  "language_info": {
   "codemirror_mode": {
    "name": "ipython",
    "version": 3
   },
   "file_extension": ".py",
   "mimetype": "text/x-python",
   "name": "python",
   "nbconvert_exporter": "python",
   "pygments_lexer": "ipython3",
   "version": "3.6.7"
  }
 },
 "nbformat": 4,
 "nbformat_minor": 2
}
